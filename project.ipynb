{
 "cells": [
  {
   "cell_type": "code",
   "execution_count": 6,
   "id": "29a43983-17b3-42be-81ae-e4ac21a3fa5a",
   "metadata": {
    "tags": []
   },
   "outputs": [],
   "source": [
    "import numpy as np\n",
    "import pandas as pd\n",
    "from matplotlib import pyplot as plt"
   ]
  },
  {
   "cell_type": "markdown",
   "id": "86a202bb-870c-4939-a9b1-3d12baf19dae",
   "metadata": {
    "tags": []
   },
   "source": [
    "# Investigation of the _Synchronized Brainwave Dataset_\n",
    "\n",
    "Data set URL: [https://www.kaggle.com/berkeley-biosense/synchronized-brainwave-dataset](https://www.kaggle.com/berkeley-biosense/synchronized-brainwave-dataset)\n",
    "\n",
    "The data set consists of EEG readings, using a one-channel consumer EEG device called [NeuroSky](http://neurosky.com/), from 30 participants. Two slightly different stimuli were presented to two (mutual exclusive) groups of 15 participants each. The two stiumuli were videos accompanied with voice instructions presenting different tasks, interleaved with phases of relaxation (with eyes shut) and hearing music.\n",
    "The data from the EEG head bands was collected on a central server that keept track of the latency so that later the **synchronized timestamps** could be computed. Each row in the `eeg-data.csv` file represents one data packet recieved by the server."
   ]
  },
  {
   "cell_type": "markdown",
   "id": "23624930-f40f-4859-b7e5-dc1ee97b10ac",
   "metadata": {},
   "source": [
    "## Exploration of the data set\n",
    "\n",
    "We started with an exploration of the data's shape, the columns, their semantics as stated in the documentation and the data types."
   ]
  },
  {
   "cell_type": "code",
   "execution_count": 2,
   "id": "f296677a-14c9-4a77-b982-aec5c491203f",
   "metadata": {
    "tags": []
   },
   "outputs": [
    {
     "data": {
      "text/plain": [
       "(30013, 13)"
      ]
     },
     "execution_count": 2,
     "metadata": {},
     "output_type": "execute_result"
    }
   ],
   "source": [
    "data = pd.read_csv('eeg-data.csv')\n",
    "data.shape"
   ]
  },
  {
   "cell_type": "markdown",
   "id": "717e582e-1577-41e7-bc7e-ddb9682fdfec",
   "metadata": {},
   "source": [
    "Inspecting the shape of the data we get the intuition that we could have around 1000 readings per participant. We can test this using Panda's `value_counts()` function on the id-column"
   ]
  },
  {
   "cell_type": "code",
   "execution_count": 3,
   "id": "b7e115a6-88cd-451b-b81d-6383798fd258",
   "metadata": {},
   "outputs": [
    {
     "data": {
      "text/plain": [
       "17    1607\n",
       "12    1495\n",
       "2     1493\n",
       "8     1465\n",
       "5     1462\n",
       "4     1388\n",
       "14    1297\n",
       "9     1268\n",
       "15    1263\n",
       "10    1224\n",
       "13    1217\n",
       "3     1197\n",
       "28    1180\n",
       "6     1168\n",
       "29    1140\n",
       "11     994\n",
       "1      940\n",
       "19     867\n",
       "7      775\n",
       "24     688\n",
       "22     639\n",
       "20     628\n",
       "26     623\n",
       "30     616\n",
       "25     612\n",
       "16     606\n",
       "18     580\n",
       "23     569\n",
       "27     548\n",
       "21     464\n",
       "Name: id, dtype: int64"
      ]
     },
     "execution_count": 3,
     "metadata": {},
     "output_type": "execute_result"
    }
   ],
   "source": [
    "data['id'].value_counts()"
   ]
  },
  {
   "cell_type": "markdown",
   "id": "50aa9be6-12ab-4269-93a2-057b41adf731",
   "metadata": {},
   "source": [
    "This shows that our assumption of roughly a thousand measurments per participant was not correct, there are differences in the number of measurements per participant: from under 500 to around 1500 measurments."
   ]
  },
  {
   "cell_type": "markdown",
   "id": "8dedd11d-041e-4b54-839e-146e6a299c1b",
   "metadata": {},
   "source": [
    "Then we looked at the 13 columns using the `columns` attribute of Pandas dataframes"
   ]
  },
  {
   "cell_type": "code",
   "execution_count": 4,
   "id": "8e350af9-3825-4a50-8d59-79edc4fd953d",
   "metadata": {},
   "outputs": [
    {
     "data": {
      "text/plain": [
       "Index(['Unnamed: 0', 'id', 'indra_time', 'browser_latency', 'reading_time',\n",
       "       'attention_esense', 'meditation_esense', 'eeg_power', 'raw_values',\n",
       "       'signal_quality', 'createdAt', 'updatedAt', 'label'],\n",
       "      dtype='object')"
      ]
     },
     "execution_count": 4,
     "metadata": {},
     "output_type": "execute_result"
    }
   ],
   "source": [
    "data.columns"
   ]
  },
  {
   "cell_type": "markdown",
   "id": "0cb3fd3e-40fa-49f4-9f21-97816f796090",
   "metadata": {},
   "source": [
    "A preview of the data in the table can be displayed using the `head` and `tail` functions"
   ]
  },
  {
   "cell_type": "code",
   "execution_count": 5,
   "id": "d1aebe56-28ab-43bf-8e98-63d05fa8a9b4",
   "metadata": {},
   "outputs": [
    {
     "data": {
      "text/html": [
       "<div>\n",
       "<style scoped>\n",
       "    .dataframe tbody tr th:only-of-type {\n",
       "        vertical-align: middle;\n",
       "    }\n",
       "\n",
       "    .dataframe tbody tr th {\n",
       "        vertical-align: top;\n",
       "    }\n",
       "\n",
       "    .dataframe thead th {\n",
       "        text-align: right;\n",
       "    }\n",
       "</style>\n",
       "<table border=\"1\" class=\"dataframe\">\n",
       "  <thead>\n",
       "    <tr style=\"text-align: right;\">\n",
       "      <th></th>\n",
       "      <th>Unnamed: 0</th>\n",
       "      <th>id</th>\n",
       "      <th>indra_time</th>\n",
       "      <th>browser_latency</th>\n",
       "      <th>reading_time</th>\n",
       "      <th>attention_esense</th>\n",
       "      <th>meditation_esense</th>\n",
       "      <th>eeg_power</th>\n",
       "      <th>raw_values</th>\n",
       "      <th>signal_quality</th>\n",
       "      <th>createdAt</th>\n",
       "      <th>updatedAt</th>\n",
       "      <th>label</th>\n",
       "    </tr>\n",
       "  </thead>\n",
       "  <tbody>\n",
       "    <tr>\n",
       "      <th>0</th>\n",
       "      <td>3730</td>\n",
       "      <td>12</td>\n",
       "      <td>2015-05-09 23:13:42.281</td>\n",
       "      <td>1461</td>\n",
       "      <td>2015-05-09 16:13:40.954</td>\n",
       "      <td>0</td>\n",
       "      <td>0</td>\n",
       "      <td>[944412.0, 111373.0, 52404.0, 28390.0, 3237.0,...</td>\n",
       "      <td>[-203.0, -202.0, -196.0, -185.0, -163.0, -137....</td>\n",
       "      <td>200</td>\n",
       "      <td>2015-05-09 23:13:39.550</td>\n",
       "      <td>2015-05-09 23:13:39.549+00</td>\n",
       "      <td>unlabeled</td>\n",
       "    </tr>\n",
       "    <tr>\n",
       "      <th>1</th>\n",
       "      <td>3732</td>\n",
       "      <td>12</td>\n",
       "      <td>2015-05-09 23:13:43.186</td>\n",
       "      <td>1461</td>\n",
       "      <td>2015-05-09 16:13:41.964</td>\n",
       "      <td>0</td>\n",
       "      <td>0</td>\n",
       "      <td>[1793049.0, 89551.0, 3896.0, 21727.0, 9301.0, ...</td>\n",
       "      <td>[104.0, 134.0, 128.0, 121.0, 145.0, 151.0, 123...</td>\n",
       "      <td>200</td>\n",
       "      <td>2015-05-09 23:13:40.559</td>\n",
       "      <td>2015-05-09 23:13:40.559+00</td>\n",
       "      <td>unlabeled</td>\n",
       "    </tr>\n",
       "    <tr>\n",
       "      <th>2</th>\n",
       "      <td>3734</td>\n",
       "      <td>12</td>\n",
       "      <td>2015-05-09 23:13:44.392</td>\n",
       "      <td>1461</td>\n",
       "      <td>2015-05-09 16:13:42.950</td>\n",
       "      <td>0</td>\n",
       "      <td>0</td>\n",
       "      <td>[400192.0, 640624.0, 153087.0, 69733.0, 98854....</td>\n",
       "      <td>[2002.0, 2047.0, 2047.0, 2047.0, 2047.0, 2047....</td>\n",
       "      <td>200</td>\n",
       "      <td>2015-05-09 23:13:41.549</td>\n",
       "      <td>2015-05-09 23:13:41.549+00</td>\n",
       "      <td>unlabeled</td>\n",
       "    </tr>\n",
       "    <tr>\n",
       "      <th>3</th>\n",
       "      <td>3735</td>\n",
       "      <td>12</td>\n",
       "      <td>2015-05-09 23:13:45.297</td>\n",
       "      <td>1461</td>\n",
       "      <td>2015-05-09 16:13:43.935</td>\n",
       "      <td>0</td>\n",
       "      <td>0</td>\n",
       "      <td>[681192.0, 138630.0, 67891.0, 26459.0, 592240....</td>\n",
       "      <td>[1287.0, 1241.0, 1196.0, 1155.0, 1113.0, 1072....</td>\n",
       "      <td>200</td>\n",
       "      <td>2015-05-09 23:13:42.532</td>\n",
       "      <td>2015-05-09 23:13:42.532+00</td>\n",
       "      <td>unlabeled</td>\n",
       "    </tr>\n",
       "    <tr>\n",
       "      <th>4</th>\n",
       "      <td>3737</td>\n",
       "      <td>12</td>\n",
       "      <td>2015-05-09 23:13:46.201</td>\n",
       "      <td>1460</td>\n",
       "      <td>2015-05-09 16:13:44.936</td>\n",
       "      <td>0</td>\n",
       "      <td>0</td>\n",
       "      <td>[268406.0, 197772.0, 190654.0, 266433.0, 91683...</td>\n",
       "      <td>[1905.0, 1836.0, 1770.0, 1707.0, 1645.0, 1587....</td>\n",
       "      <td>200</td>\n",
       "      <td>2015-05-09 23:13:43.532</td>\n",
       "      <td>2015-05-09 23:13:43.532+00</td>\n",
       "      <td>unlabeled</td>\n",
       "    </tr>\n",
       "  </tbody>\n",
       "</table>\n",
       "</div>"
      ],
      "text/plain": [
       "   Unnamed: 0  id               indra_time browser_latency  \\\n",
       "0        3730  12  2015-05-09 23:13:42.281            1461   \n",
       "1        3732  12  2015-05-09 23:13:43.186            1461   \n",
       "2        3734  12  2015-05-09 23:13:44.392            1461   \n",
       "3        3735  12  2015-05-09 23:13:45.297            1461   \n",
       "4        3737  12  2015-05-09 23:13:46.201            1460   \n",
       "\n",
       "              reading_time  attention_esense  meditation_esense  \\\n",
       "0  2015-05-09 16:13:40.954                 0                  0   \n",
       "1  2015-05-09 16:13:41.964                 0                  0   \n",
       "2  2015-05-09 16:13:42.950                 0                  0   \n",
       "3  2015-05-09 16:13:43.935                 0                  0   \n",
       "4  2015-05-09 16:13:44.936                 0                  0   \n",
       "\n",
       "                                           eeg_power  \\\n",
       "0  [944412.0, 111373.0, 52404.0, 28390.0, 3237.0,...   \n",
       "1  [1793049.0, 89551.0, 3896.0, 21727.0, 9301.0, ...   \n",
       "2  [400192.0, 640624.0, 153087.0, 69733.0, 98854....   \n",
       "3  [681192.0, 138630.0, 67891.0, 26459.0, 592240....   \n",
       "4  [268406.0, 197772.0, 190654.0, 266433.0, 91683...   \n",
       "\n",
       "                                          raw_values  signal_quality  \\\n",
       "0  [-203.0, -202.0, -196.0, -185.0, -163.0, -137....             200   \n",
       "1  [104.0, 134.0, 128.0, 121.0, 145.0, 151.0, 123...             200   \n",
       "2  [2002.0, 2047.0, 2047.0, 2047.0, 2047.0, 2047....             200   \n",
       "3  [1287.0, 1241.0, 1196.0, 1155.0, 1113.0, 1072....             200   \n",
       "4  [1905.0, 1836.0, 1770.0, 1707.0, 1645.0, 1587....             200   \n",
       "\n",
       "                 createdAt                   updatedAt      label  \n",
       "0  2015-05-09 23:13:39.550  2015-05-09 23:13:39.549+00  unlabeled  \n",
       "1  2015-05-09 23:13:40.559  2015-05-09 23:13:40.559+00  unlabeled  \n",
       "2  2015-05-09 23:13:41.549  2015-05-09 23:13:41.549+00  unlabeled  \n",
       "3  2015-05-09 23:13:42.532  2015-05-09 23:13:42.532+00  unlabeled  \n",
       "4  2015-05-09 23:13:43.532  2015-05-09 23:13:43.532+00  unlabeled  "
      ]
     },
     "execution_count": 5,
     "metadata": {},
     "output_type": "execute_result"
    }
   ],
   "source": [
    "data.head(5)"
   ]
  },
  {
   "cell_type": "code",
   "execution_count": 6,
   "id": "732e0dde-d730-4539-aa7a-e9cb2fd85a47",
   "metadata": {},
   "outputs": [
    {
     "data": {
      "text/html": [
       "<div>\n",
       "<style scoped>\n",
       "    .dataframe tbody tr th:only-of-type {\n",
       "        vertical-align: middle;\n",
       "    }\n",
       "\n",
       "    .dataframe tbody tr th {\n",
       "        vertical-align: top;\n",
       "    }\n",
       "\n",
       "    .dataframe thead th {\n",
       "        text-align: right;\n",
       "    }\n",
       "</style>\n",
       "<table border=\"1\" class=\"dataframe\">\n",
       "  <thead>\n",
       "    <tr style=\"text-align: right;\">\n",
       "      <th></th>\n",
       "      <th>Unnamed: 0</th>\n",
       "      <th>id</th>\n",
       "      <th>indra_time</th>\n",
       "      <th>browser_latency</th>\n",
       "      <th>reading_time</th>\n",
       "      <th>attention_esense</th>\n",
       "      <th>meditation_esense</th>\n",
       "      <th>eeg_power</th>\n",
       "      <th>raw_values</th>\n",
       "      <th>signal_quality</th>\n",
       "      <th>createdAt</th>\n",
       "      <th>updatedAt</th>\n",
       "      <th>label</th>\n",
       "    </tr>\n",
       "  </thead>\n",
       "  <tbody>\n",
       "    <tr>\n",
       "      <th>30008</th>\n",
       "      <td>10584</td>\n",
       "      <td>17</td>\n",
       "      <td>2015-05-10 00:05:50.380</td>\n",
       "      <td>34</td>\n",
       "      <td>2015-05-09 17:05:51.141</td>\n",
       "      <td>0</td>\n",
       "      <td>0</td>\n",
       "      <td>[477547.0, 152641.0, 5145.0, 9858.0, 39852.0, ...</td>\n",
       "      <td>[57.0, 12.0, 9.0, 33.0, 50.0, 66.0, 64.0, 52.0...</td>\n",
       "      <td>200</td>\n",
       "      <td>2015-05-10 00:05:51.162</td>\n",
       "      <td>2015-05-10 00:05:51.162+00</td>\n",
       "      <td>unlabeled</td>\n",
       "    </tr>\n",
       "    <tr>\n",
       "      <th>30009</th>\n",
       "      <td>10589</td>\n",
       "      <td>17</td>\n",
       "      <td>2015-05-10 00:05:51.389</td>\n",
       "      <td>34</td>\n",
       "      <td>2015-05-09 17:05:52.134</td>\n",
       "      <td>0</td>\n",
       "      <td>0</td>\n",
       "      <td>[388959.0, 48072.0, 11231.0, 14509.0, 25687.0,...</td>\n",
       "      <td>[21.0, -56.0, -37.0, 25.0, 56.0, 49.0, 23.0, 5...</td>\n",
       "      <td>200</td>\n",
       "      <td>2015-05-10 00:05:52.161</td>\n",
       "      <td>2015-05-10 00:05:52.161+00</td>\n",
       "      <td>unlabeled</td>\n",
       "    </tr>\n",
       "    <tr>\n",
       "      <th>30010</th>\n",
       "      <td>10590</td>\n",
       "      <td>17</td>\n",
       "      <td>2015-05-10 00:05:52.366</td>\n",
       "      <td>34</td>\n",
       "      <td>2015-05-09 17:05:53.120</td>\n",
       "      <td>0</td>\n",
       "      <td>0</td>\n",
       "      <td>[53357.0, 18929.0, 11169.0, 11818.0, 20640.0, ...</td>\n",
       "      <td>[42.0, -4.0, -19.0, 19.0, 53.0, 44.0, 16.0, 4....</td>\n",
       "      <td>200</td>\n",
       "      <td>2015-05-10 00:05:53.144</td>\n",
       "      <td>2015-05-10 00:05:53.144+00</td>\n",
       "      <td>unlabeled</td>\n",
       "    </tr>\n",
       "    <tr>\n",
       "      <th>30011</th>\n",
       "      <td>10587</td>\n",
       "      <td>17</td>\n",
       "      <td>2015-05-10 00:05:53.382</td>\n",
       "      <td>34</td>\n",
       "      <td>2015-05-09 17:05:54.142</td>\n",
       "      <td>0</td>\n",
       "      <td>0</td>\n",
       "      <td>[40891.0, 108300.0, 19622.0, 14285.0, 11863.0,...</td>\n",
       "      <td>[4.0, -24.0, -19.0, 24.0, 55.0, 65.0, 67.0, 58...</td>\n",
       "      <td>200</td>\n",
       "      <td>2015-05-10 00:05:54.167</td>\n",
       "      <td>2015-05-10 00:05:54.167+00</td>\n",
       "      <td>unlabeled</td>\n",
       "    </tr>\n",
       "    <tr>\n",
       "      <th>30012</th>\n",
       "      <td>10591</td>\n",
       "      <td>17</td>\n",
       "      <td>2015-05-10 00:05:54.645</td>\n",
       "      <td>34</td>\n",
       "      <td>2015-05-09 17:05:55.140</td>\n",
       "      <td>0</td>\n",
       "      <td>0</td>\n",
       "      <td>[61861.0, 11302.0, 8251.0, 8788.0, 42668.0, 88...</td>\n",
       "      <td>[-35.0, -81.0, -62.0, 7.0, 80.0, 105.0, 97.0, ...</td>\n",
       "      <td>200</td>\n",
       "      <td>2015-05-10 00:05:55.165</td>\n",
       "      <td>2015-05-10 00:05:55.165+00</td>\n",
       "      <td>unlabeled</td>\n",
       "    </tr>\n",
       "  </tbody>\n",
       "</table>\n",
       "</div>"
      ],
      "text/plain": [
       "       Unnamed: 0  id               indra_time browser_latency  \\\n",
       "30008       10584  17  2015-05-10 00:05:50.380              34   \n",
       "30009       10589  17  2015-05-10 00:05:51.389              34   \n",
       "30010       10590  17  2015-05-10 00:05:52.366              34   \n",
       "30011       10587  17  2015-05-10 00:05:53.382              34   \n",
       "30012       10591  17  2015-05-10 00:05:54.645              34   \n",
       "\n",
       "                  reading_time  attention_esense  meditation_esense  \\\n",
       "30008  2015-05-09 17:05:51.141                 0                  0   \n",
       "30009  2015-05-09 17:05:52.134                 0                  0   \n",
       "30010  2015-05-09 17:05:53.120                 0                  0   \n",
       "30011  2015-05-09 17:05:54.142                 0                  0   \n",
       "30012  2015-05-09 17:05:55.140                 0                  0   \n",
       "\n",
       "                                               eeg_power  \\\n",
       "30008  [477547.0, 152641.0, 5145.0, 9858.0, 39852.0, ...   \n",
       "30009  [388959.0, 48072.0, 11231.0, 14509.0, 25687.0,...   \n",
       "30010  [53357.0, 18929.0, 11169.0, 11818.0, 20640.0, ...   \n",
       "30011  [40891.0, 108300.0, 19622.0, 14285.0, 11863.0,...   \n",
       "30012  [61861.0, 11302.0, 8251.0, 8788.0, 42668.0, 88...   \n",
       "\n",
       "                                              raw_values  signal_quality  \\\n",
       "30008  [57.0, 12.0, 9.0, 33.0, 50.0, 66.0, 64.0, 52.0...             200   \n",
       "30009  [21.0, -56.0, -37.0, 25.0, 56.0, 49.0, 23.0, 5...             200   \n",
       "30010  [42.0, -4.0, -19.0, 19.0, 53.0, 44.0, 16.0, 4....             200   \n",
       "30011  [4.0, -24.0, -19.0, 24.0, 55.0, 65.0, 67.0, 58...             200   \n",
       "30012  [-35.0, -81.0, -62.0, 7.0, 80.0, 105.0, 97.0, ...             200   \n",
       "\n",
       "                     createdAt                   updatedAt      label  \n",
       "30008  2015-05-10 00:05:51.162  2015-05-10 00:05:51.162+00  unlabeled  \n",
       "30009  2015-05-10 00:05:52.161  2015-05-10 00:05:52.161+00  unlabeled  \n",
       "30010  2015-05-10 00:05:53.144  2015-05-10 00:05:53.144+00  unlabeled  \n",
       "30011  2015-05-10 00:05:54.167  2015-05-10 00:05:54.167+00  unlabeled  \n",
       "30012  2015-05-10 00:05:55.165  2015-05-10 00:05:55.165+00  unlabeled  "
      ]
     },
     "execution_count": 6,
     "metadata": {},
     "output_type": "execute_result"
    }
   ],
   "source": [
    "data.tail(5)"
   ]
  },
  {
   "cell_type": "markdown",
   "id": "8844a5a5-ac3d-4f36-a1ac-3f5f98443dcf",
   "metadata": {},
   "source": [
    "From the head and tail calls we got the impression that the `label` field could contain only the value \"unlabeled\". We used the `unique` function to test this"
   ]
  },
  {
   "cell_type": "code",
   "execution_count": 7,
   "id": "536b88b7-5353-4755-984d-afdaefeb178f",
   "metadata": {},
   "outputs": [
    {
     "data": {
      "text/plain": [
       "array(['unlabeled', 'blinkInstruction', 'blink1', 'blink2', 'blink3',\n",
       "       'blink4', 'blink5', 'relaxInstruction', 'relax', 'mathInstruction',\n",
       "       'math1', 'math2', 'math3', 'math4', 'math5', 'math6', 'math7',\n",
       "       'math8', 'math9', 'math10', 'math11', 'math12', 'musicInstruction',\n",
       "       'music', 'videoInstruction', 'video-ver1',\n",
       "       'thinkOfItemsInstruction-ver1', 'thinkOfItems-ver1',\n",
       "       'colorInstruction1', 'colorInstruction2', 'readyRound1',\n",
       "       'colorRound1-1', 'colorRound1-2', 'colorRound1-3', 'colorRound1-4',\n",
       "       'colorRound1-5', 'colorRound1-6', 'readyRound2', 'colorRound2-1',\n",
       "       'colorRound2-2', 'colorRound2-3', 'colorRound2-4', 'colorRound2-5',\n",
       "       'colorRound2-6', 'readyRound3', 'colorRound3-1', 'colorRound3-2',\n",
       "       'colorRound3-3', 'colorRound3-4', 'colorRound3-5', 'colorRound3-6',\n",
       "       'readyRound4', 'colorRound4-1', 'colorRound4-2', 'colorRound4-3',\n",
       "       'colorRound4-4', 'colorRound4-5', 'colorRound4-6', 'readyRound5',\n",
       "       'colorRound5-1', 'colorRound5-2', 'colorRound5-3', 'colorRound5-4',\n",
       "       'colorRound5-5', 'colorRound5-6', 'video-ver2',\n",
       "       'thinkOfItemsInstruction-ver2', 'thinkOfItems-ver2'], dtype=object)"
      ]
     },
     "execution_count": 7,
     "metadata": {},
     "output_type": "execute_result"
    }
   ],
   "source": [
    "data['label'].unique()"
   ]
  },
  {
   "cell_type": "markdown",
   "id": "1c229415-ba96-49f5-879d-88d794da8add",
   "metadata": {},
   "source": [
    "The result showed that there are indeed different values in the label column. The description of the data set saysthat the `label` field contains a label indicating which phase of the stimulus was presented before the measurement was taken. \"Unlabeled\" are measurements take before and after the stimulus was presented (according to the documentation). "
   ]
  }
 ],
 "metadata": {
  "kernelspec": {
   "display_name": "Python 3",
   "language": "python",
   "name": "python3"
  },
  "language_info": {
   "codemirror_mode": {
    "name": "ipython",
    "version": 3
   },
   "file_extension": ".py",
   "mimetype": "text/x-python",
   "name": "python",
   "nbconvert_exporter": "python",
   "pygments_lexer": "ipython3",
   "version": "3.8.8"
  }
 },
 "nbformat": 4,
 "nbformat_minor": 5
}
